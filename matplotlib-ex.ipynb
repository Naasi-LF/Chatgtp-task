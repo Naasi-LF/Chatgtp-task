{
 "cells": [
  {
   "cell_type": "markdown",
   "id": "1a37a0d6-64ec-434d-81a5-7b202911b402",
   "metadata": {},
   "source": [
    "# Matplotlib 综合练习\n",
    "\n",
    "## 作业要求\n",
    "\n",
    "- 提交时间：2023年05月12日之前\n",
    "- 完成人数：1人\n",
    "- 提交形式：`.ipynb`格式的笔记本\n",
    "- 接收邮箱：yeh@czust.edu.cn"
   ]
  },
  {
   "cell_type": "markdown",
   "id": "d9c0984a-fc5d-43c7-a38b-0bbd168dc010",
   "metadata": {},
   "source": [
    "## 作业内容\n",
    "\n",
    "### 波形\n",
    "\n",
    "波(wave)在数学、物理学、信号处理等领域十分常用，它可以用光滑的周期函数来表示\n",
    "\n",
    "$$y=\\sin\\left(\\frac{2\\pi}{\\lambda}x\\right)$$\n",
    "\n",
    "其中，$\\lambda$是波长\n"
   ]
  },
  {
   "cell_type": "code",
   "execution_count": null,
   "id": "ecc05e33-e1b1-45fd-8a70-82ad89e70388",
   "metadata": {},
   "outputs": [],
   "source": [
    "# EX1. 在此写下Python代码，用上述公式画出波长为0.5的波形\n",
    "\n",
    "\n",
    "\n"
   ]
  },
  {
   "cell_type": "code",
   "execution_count": null,
   "id": "744faa77-76c1-48f1-8483-6bd90b35ff0c",
   "metadata": {},
   "outputs": [],
   "source": [
    "# EX2. 修改EX1的代码，使之成为可以画任意波长(不为零)的Python函数，并测试\n",
    "\n",
    "\n",
    "\n",
    "\n",
    "\n",
    "\n",
    "\n",
    "\n",
    "plot_wave(0.5)\n",
    "plot_wave(1.0)\n",
    "plot_wave(2.5)"
   ]
  },
  {
   "cell_type": "markdown",
   "id": "c1b8e1d2-9871-457b-bc4a-f11a98d0a458",
   "metadata": {},
   "source": [
    "### 行波模拟器\n",
    "\n",
    "行波(travelling wave)是波形随着时间向一个方向传播的波，表示为\n",
    "\n",
    "$$y=\\sin\\left(\\frac{2\\pi}{\\lambda}(x-vt)+\\phi\\right)$$\n",
    "\n",
    "其中，$t$是时间，$v$是波速，$\\phi$是相位\n",
    "\n",
    "时间 $t$ 是我们控制推进的主要变量"
   ]
  },
  {
   "cell_type": "code",
   "execution_count": null,
   "id": "2a9a2ad9-3c41-4dd7-bba0-bc36e1ab54d9",
   "metadata": {},
   "outputs": [],
   "source": [
    "# EX3. 编写一个绘制特定时刻波形的函数，它以时间t为形式参数\n",
    "#      其他形式参数默认取值分别是\n",
    "#      波长 l=0.5\n",
    "#      波速 v=1\n",
    "#      相位 p=0.5\n",
    "\n",
    "\n",
    "\n",
    "\n",
    "\n",
    "# 测试你的函数\n",
    "plot_tw(0)\n",
    "plot_tw(0.1)\n",
    "plot_tw(0.2)"
   ]
  },
  {
   "cell_type": "markdown",
   "id": "2dc743a9-1ef0-455b-9fab-4673fc2e1318",
   "metadata": {},
   "source": [
    "### Matplotlib 动画\n",
    "\n",
    "尝试创建动画，让行波“行”起来\n",
    "\n",
    "Matplotlib 有一个叫做 `animation` 的模块，里面包括有趣的功能，例如根据函数更新动画\n",
    "\n",
    "动画是逐帧显示的 Matplotlib 绘图，从原理上讲，只需定义好绘图参数和数据绑定，调用 `animation` 模块中的功能就产生动画"
   ]
  },
  {
   "cell_type": "code",
   "execution_count": null,
   "id": "b7f4bd0c-354b-467e-82ae-8216dc25716a",
   "metadata": {},
   "outputs": [],
   "source": [
    "# EX4. 初试动画，贴心的老师帮你导入所需的库，以及框架代码\n",
    "#      但是波形函数需要你来定义(使用lambda函数)\n",
    "\n",
    "import numpy as np\n",
    "import matplotlib.pyplot as plt\n",
    "from matplotlib.animation import FuncAnimation\n",
    "from IPython.display import HTML\n",
    "\n",
    "# 这里定义你的波形函数，代入上述行波公式，它有两个形式参数，分别表示传入的自变量x和时间t\n",
    "# 其他物理量直接使用常量，要求：\n",
    "#    波长为 0.5\n",
    "#    波速为 1\n",
    "#    相位为 0.5\n",
    "\n",
    "\n",
    "my_wave = lambda x, t: \n",
    "\n",
    "\n",
    "# 绘图初始化\n",
    "fig, ax = plt.subplots()\n",
    "x, y = [], []\n",
    "line, = plt.plot([], [])"
   ]
  },
  {
   "cell_type": "code",
   "execution_count": null,
   "id": "e8ba5eab-7e5b-4929-8dfa-6270c2a9886b",
   "metadata": {},
   "outputs": [],
   "source": [
    "# 轴初始化函数，用以传参给 FuncAnimation\n",
    "def init():\n",
    "    ax.set_xlim(0, 1)\n",
    "    ax.set_ylim(-1.1, 1.1)\n",
    "    return line,\n",
    "\n",
    "# 绘图更新函数，用以传参给 FuncAnimation\n",
    "def update(t):\n",
    "    # 函数的自变量 x\n",
    "    x = np.linspace(0, 1, 1000)\n",
    "    # 函数的因变量 y，这里调用函数可以作为本题定义波形函数的提示\n",
    "    y = my_wave(x, t)\n",
    "    \n",
    "    # 绑定数据更新\n",
    "    line.set_data(x, y)\n",
    "    return line,\n",
    "\n",
    "n_frames = 100\n",
    "ani = FuncAnimation(fig, update, frames=np.linspace(0, 1, n_frames),\n",
    "                    init_func=init, blit=True, interval=20)\n",
    "\n",
    "# 一旦定义好波形函数，执行本单元格就能看到交互式动画节目，点击播放可以让行波走起来\n",
    "HTML(ani.to_jshtml())"
   ]
  },
  {
   "cell_type": "markdown",
   "id": "f73d3d32-f9a9-41fe-9b05-43dfb981e927",
   "metadata": {},
   "source": [
    "### 波形叠加\n",
    "\n",
    "实际遇到的波通常都不是简谐的(simple harmonic)，往往是由多个波形叠加的信号\n",
    "\n",
    "这里我们通过两个简谐行波的叠加，来模拟一个较为复杂的波形\n",
    "\n",
    "参与叠加的两个分量波形分别为\n",
    "\n",
    "$$y_1=\\sin\\left(\\frac{2\\pi}{0.5}(x-t)+0.5\\right)$$\n",
    "$$y_2=\\sin\\left(\\frac{2\\pi}{0.1}(x-2t)\\right)$$\n",
    "\n",
    "其中，$t$是时间"
   ]
  },
  {
   "cell_type": "code",
   "execution_count": null,
   "id": "40fc0ff2-f1fc-411b-8c32-f3ea1edf1d44",
   "metadata": {},
   "outputs": [],
   "source": [
    "# EX5. 仿照上一代码单元格，编写用以传参给 FuncAnimation 的：\n",
    "#      a. 轴初始化函数\n",
    "#      b. 绘图更新函数\n",
    "\n",
    "\n",
    "\n",
    "\n",
    "\n",
    "# 这里只需改动传入的函数名即可\n",
    "ani = FuncAnimation(fig, update, frames=np.linspace(0, 1, n_frames),\n",
    "                    init_func=init, blit=True, interval=20)\n",
    "\n",
    "# 请自行测试\n",
    "HTML(ani.to_jshtml())"
   ]
  }
 ],
 "metadata": {
  "kernelspec": {
   "display_name": "Python 3 (ipykernel)",
   "language": "python",
   "name": "python3"
  },
  "language_info": {
   "codemirror_mode": {
    "name": "ipython",
    "version": 3
   },
   "file_extension": ".py",
   "mimetype": "text/x-python",
   "name": "python",
   "nbconvert_exporter": "python",
   "pygments_lexer": "ipython3",
   "version": "3.9.12"
  }
 },
 "nbformat": 4,
 "nbformat_minor": 5
}
